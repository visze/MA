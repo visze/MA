{
 "cells": [
  {
   "cell_type": "code",
   "execution_count": 1,
   "metadata": {},
   "outputs": [],
   "source": [
    "import pandas as pd\n",
    "import os\n",
    "import pyreadr\n",
    "\n",
    "import numpy as np\n",
    "from ftplib import FTP\n",
    "\n",
    "    \n",
    "import os\n",
    "\n",
    "\n",
    "## move to .py when done   "
   ]
  },
  {
   "cell_type": "code",
   "execution_count": 2,
   "metadata": {},
   "outputs": [],
   "source": [
    "\n",
    "df = pd.read_excel('Utils/Features.xlsx')\n",
    "\n"
   ]
  },
  {
   "cell_type": "code",
   "execution_count": 20,
   "metadata": {},
   "outputs": [],
   "source": [
    "#name = snakemake.params.name \n",
    "data_name = 'hg38'\n",
    "#rsync creates at most 1 missing directory\n",
    "os.system('mkdir input/' + 'Features' + '/' )\n",
    "os.system('mkdir input/Features/' + data_name + '/' )\n",
    "rsync_ = 'rsync -a -P rsync://'\n",
    "release = 'hg38'\n",
    "\n"
   ]
  },
  {
   "cell_type": "code",
   "execution_count": 21,
   "metadata": {},
   "outputs": [
    {
     "data": {
      "text/plain": [
       "'230 User anonymous logged in.'"
      ]
     },
     "execution_count": 21,
     "metadata": {},
     "output_type": "execute_result"
    }
   ],
   "source": [
    "# since most data come from ucsc set is as defeault \n",
    "ftp = 'hgdownload.soe.ucsc.edu'\n",
    "f = FTP(ftp)\n",
    "f.login()\n"
   ]
  },
  {
   "cell_type": "code",
   "execution_count": 25,
   "metadata": {
    "scrolled": false
   },
   "outputs": [],
   "source": [
    "commands = []\n",
    "\n",
    "for i in range(len(df))[:]:\n",
    " #   print(i)\n",
    "    rsync_ = 'rsync -a -P rsync://'\n",
    "\n",
    "\n",
    "    link = df['Link Release ' + release][i]\n",
    "    if link==link :\n",
    "        ftp_new = link.split('/', 3)[2]\n",
    "        s = '/' + link.split('/', 3)[3]\n",
    "        # change ftp adress is not ucsc\n",
    "        if ftp!=ftp_new:\n",
    "            ftp= ftp_new\n",
    "            f = FTP(ftp)\n",
    "            f.login()\n",
    "        else:\n",
    "            pass\n",
    "        rsync = rsync_ + ftp\n",
    "        f.cwd(s)\n",
    "        if df['File name'][i]=='diverse':\n",
    "        #    print('-----------------------')\n",
    "            files = f.nlst()\n",
    "            string = df['Name_Rule'][i].replace(',','|').replace(' ','')\n",
    "            feature_files = pd.Series(files)[pd.Series(files).str.contains(string)]\n",
    "         #   print(len(feature_files))\n",
    "            for file in feature_files:\n",
    "              #  print(file)\n",
    "                command = rsync + s + file + ' ./input/' + data_name + '/' + df['ReMM_Name'][i]  + '/' + ' ;'\n",
    "                commands.append(command)\n",
    "            #    print(command)\n",
    "        else:\n",
    "            command =rsync + s + df['File name'][i]+ ' ./input/Features/' + data_name + '/' + df['ReMM_Name'][i]  + '/'  + ' ;'\n",
    "            commands.append(command)\n",
    "    else:\n",
    "\n",
    "        pass\n"
   ]
  },
  {
   "cell_type": "code",
   "execution_count": 138,
   "metadata": {},
   "outputs": [],
   "source": [
    "link = 'hgdownload.soe.ucsc.edu/goldenPath/hg38/phyloP30way/hg38.30way.phyloP/'\n",
    "string = 'gz'\n",
    "\n",
    "from ftplib import FTP\n",
    "import pandas as pd\n",
    "#link = snakemake.params.link\n",
    "#filter_ = snakemake.params.link\n",
    "#destination = snakemake.output\n",
    "destination = 'input/Features/hg38'\n",
    "ftp = link.split('/', 1)[0]\n",
    "directory = '/' + link.split('/', 1)[1]\n",
    "\n",
    "\n",
    "f = FTP(ftp)\n",
    "f.login()\n",
    "rsync = 'rsync -a -P rsync://' + ftp\n",
    "f.cwd(directory)\n",
    "files = f.nlst()\n",
    "files =pd.Series(files)#[pd.Series(files).str.contains(string)]\n",
    "\n",
    "filter_ ='chr[0-9]|chrX|chrY.*.phyloP30way.wigFix.gz'\n",
    "files =pd.Series(files)[pd.Series(files).str.contains(filter_)]\n",
    "with open(\"outfile\", \"w\") as outfile:\n",
    "    outfile.write(\"\\n\".join(str(item) for item in files))"
   ]
  },
  {
   "cell_type": "code",
   "execution_count": 87,
   "metadata": {},
   "outputs": [],
   "source": [
    "rsync = 'rsync -a -P rsync://' + ftp + directory + destination + ' ;'\n",
    "rsync + s + file + ' ./input/' + data_name + '/' + df['ReMM_Name'][i]  + '/' + ' ;'"
   ]
  },
  {
   "cell_type": "code",
   "execution_count": 104,
   "metadata": {},
   "outputs": [],
   "source": [
    "destination = '/input/Features/hg38/phyloP30way/'\n",
    "\n"
   ]
  },
  {
   "cell_type": "code",
   "execution_count": 105,
   "metadata": {},
   "outputs": [],
   "source": [
    "rsync = 'rsync -a -P rsync://' + ftp + directory + files +' ' +destination + ' ;'\n",
    "\n"
   ]
  },
  {
   "cell_type": "code",
   "execution_count": 106,
   "metadata": {},
   "outputs": [
    {
     "data": {
      "text/plain": [
       "'rsync -a -P rsync://hgdownload.soe.ucsc.edu/goldenPath/hg38/phyloP30way/hg38.30way.phyloP/chr16.phyloP30way.wigFix.gz /input/Features/hg38/phyloP30way/ ;'"
      ]
     },
     "execution_count": 106,
     "metadata": {},
     "output_type": "execute_result"
    }
   ],
   "source": [
    "rsync[2]"
   ]
  },
  {
   "cell_type": "code",
   "execution_count": 82,
   "metadata": {},
   "outputs": [],
   "source": [
    "string ='chr[0-9]|chrX|chrY.*.wigFix.gz'\n",
    "\n",
    "\n",
    "files =pd.Series(files)[pd.Series(files).str.contains(string)]"
   ]
  },
  {
   "cell_type": "code",
   "execution_count": 72,
   "metadata": {},
   "outputs": [
    {
     "data": {
      "text/plain": [
       "358"
      ]
     },
     "execution_count": 72,
     "metadata": {},
     "output_type": "execute_result"
    }
   ],
   "source": [
    "len(files)"
   ]
  },
  {
   "cell_type": "code",
   "execution_count": 27,
   "metadata": {},
   "outputs": [
    {
     "ename": "AttributeError",
     "evalue": "'str' object has no attribute 'contains'",
     "output_type": "error",
     "traceback": [
      "\u001b[0;31m---------------------------------------------------------------------------\u001b[0m",
      "\u001b[0;31mAttributeError\u001b[0m                            Traceback (most recent call last)",
      "\u001b[0;32m<ipython-input-27-9d169ddb1649>\u001b[0m in \u001b[0;36m<module>\u001b[0;34m\u001b[0m\n\u001b[0;32m----> 1\u001b[0;31m \u001b[0;34m'chr16.phyloP30way.wigFix.gz'\u001b[0m\u001b[0;34m.\u001b[0m\u001b[0mcontains\u001b[0m\u001b[0;34m(\u001b[0m\u001b[0mstring\u001b[0m\u001b[0;34m)\u001b[0m\u001b[0;34m\u001b[0m\u001b[0;34m\u001b[0m\u001b[0m\n\u001b[0m",
      "\u001b[0;31mAttributeError\u001b[0m: 'str' object has no attribute 'contains'"
     ]
    }
   ],
   "source": [
    "'chr16.phyloP30way.wigFix.gz'.contains(string)"
   ]
  },
  {
   "cell_type": "code",
   "execution_count": 81,
   "metadata": {},
   "outputs": [
    {
     "data": {
      "text/plain": [
       "353    True\n",
       "354    True\n",
       "355    True\n",
       "356    True\n",
       "357    True\n",
       "dtype: bool"
      ]
     },
     "execution_count": 81,
     "metadata": {},
     "output_type": "execute_result"
    }
   ],
   "source": [
    "\n",
    "string ='chr[0-9]|chrX|chrY.*.wigFix.gz'\n",
    "\n",
    "files[-5:].str.contains(string,regex=True)"
   ]
  },
  {
   "cell_type": "code",
   "execution_count": 51,
   "metadata": {},
   "outputs": [
    {
     "data": {
      "text/html": [
       "<div>\n",
       "<style scoped>\n",
       "    .dataframe tbody tr th:only-of-type {\n",
       "        vertical-align: middle;\n",
       "    }\n",
       "\n",
       "    .dataframe tbody tr th {\n",
       "        vertical-align: top;\n",
       "    }\n",
       "\n",
       "    .dataframe thead th {\n",
       "        text-align: right;\n",
       "    }\n",
       "</style>\n",
       "<table border=\"1\" class=\"dataframe\">\n",
       "  <thead>\n",
       "    <tr style=\"text-align: right;\">\n",
       "      <th></th>\n",
       "      <th>ID</th>\n",
       "      <th>String_Col</th>\n",
       "    </tr>\n",
       "  </thead>\n",
       "  <tbody>\n",
       "    <tr>\n",
       "      <th>2</th>\n",
       "      <td>3</td>\n",
       "      <td>apple and banana both are delicious</td>\n",
       "    </tr>\n",
       "  </tbody>\n",
       "</table>\n",
       "</div>"
      ],
      "text/plain": [
       "   ID                           String_Col\n",
       "2   3  apple and banana both are delicious"
      ]
     },
     "execution_count": 51,
     "metadata": {},
     "output_type": "execute_result"
    }
   ],
   "source": [
    "df = pd.DataFrame([[1,\"apple is delicious\"],[2,\"banana is delicious\"],[3,\"apple and banana both are delicious\"]],columns=('ID','String_Col'))\n",
    "\n",
    "df[df['String_Col'].str.contains(r'apple.*banana|banana.*apple')]\n",
    "\n"
   ]
  },
  {
   "cell_type": "code",
   "execution_count": 136,
   "metadata": {},
   "outputs": [],
   "source": [
    "from ftplib import FTP\n",
    "import pandas as pd\n",
    "\n",
    "#link = snakemake.params.link\n",
    "link = 'http://hgdownload.soe.ucsc.edu/goldenPath/hg38/phyloP30way/hg38.30way.phyloP/'\n",
    "\n",
    "\n",
    "#filter_ = snakemake.params.filter\n",
    "#path = snakemake.output.path\n",
    "path = 'input/features/hg38/priPhyloP46way/'\n",
    "ftp = link.split('/', 3)[2]\n",
    "directory = '/' + link.split('/', 3)[3]\n",
    "\n",
    "f = FTP(ftp)\n",
    "f.login()\n",
    "rsync = 'rsync -a -P rsync://' + ftp\n",
    "f.cwd(directory)\n",
    "files = f.nlst()\n",
    "\n",
    "filter_ ='chr[0-9]|chrX|chrY.*.phyloP30way.wigFix.gz'\n",
    "files =pd.Series(files)[pd.Series(files).str.contains(filter_)]\n",
    "\n",
    "rsync = 'rsync -a -P rsync://' + ftp + directory + files +' ' + path + ' ;'\n",
    "\n",
    "with open(path+'rsync.txt', 'w') as f:\n",
    "    f.write(\"\\n\".join(str(item) for item in rsync))\n"
   ]
  },
  {
   "cell_type": "code",
   "execution_count": 141,
   "metadata": {},
   "outputs": [],
   "source": [
    "from ftplib import FTP\n",
    "import pandas as pd\n",
    "import os\n",
    "#link = snakemake.params.link\n",
    "link = 'hgdownload.soe.ucsc.edu/goldenPath/hg38/phyloP30way/hg38.30way.phyloP/'\n",
    "\n",
    "filter_ ='chr[0-9]|chrX|chrY.*.phyloP30way.wigFix.gz'\n",
    "\n",
    "\n",
    "#filter_ = snakemake.params.filter\n",
    "#path = snakemake.output.path\n",
    "path = 'input/features/hg38/priPhyloP46way/rsync.txt'\n",
    "ftp = link.split('/', 1)[0]\n",
    "directory = '/' + link.split('/', 1)[1]\n",
    "\n",
    "f = FTP(ftp)\n",
    "f.login()\n",
    "rsync = 'rsync -a -P rsync://' + ftp\n",
    "f.cwd(directory)\n",
    "files = f.nlst()\n",
    "\n",
    "files =pd.Series(files)[pd.Series(files).str.contains(filter_)]\n",
    "\n",
    "rsync = 'rsync -a -P rsync://' + ftp + directory + files +' ' + './' + path + ' ;'\n",
    "p = os.getcwd()+'/' +path\n",
    "with open(p, 'w') as f:\n",
    "    f.write(\"\\n\".join(str(item) for item in rsync))\n"
   ]
  },
  {
   "cell_type": "code",
   "execution_count": null,
   "metadata": {},
   "outputs": [],
   "source": []
  }
 ],
 "metadata": {
  "kernelspec": {
   "display_name": "Python 3",
   "language": "python",
   "name": "python3"
  },
  "language_info": {
   "codemirror_mode": {
    "name": "ipython",
    "version": 3
   },
   "file_extension": ".py",
   "mimetype": "text/x-python",
   "name": "python",
   "nbconvert_exporter": "python",
   "pygments_lexer": "ipython3",
   "version": "3.7.6"
  }
 },
 "nbformat": 4,
 "nbformat_minor": 4
}
