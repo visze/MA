{
 "cells": [
  {
   "cell_type": "code",
   "execution_count": 1,
   "metadata": {},
   "outputs": [],
   "source": [
    "import pandas as pd\n",
    "import os\n",
    "import pyreadr\n",
    "\n",
    "import numpy as np\n",
    "from ftplib import FTP\n",
    "\n",
    "    \n",
    "import os\n",
    "\n",
    "\n",
    "## move to .py when done   "
   ]
  },
  {
   "cell_type": "code",
   "execution_count": 2,
   "metadata": {},
   "outputs": [],
   "source": [
    "\n",
    "df = pd.read_excel('Utils/Features.xlsx')\n",
    "\n"
   ]
  },
  {
   "cell_type": "code",
   "execution_count": 20,
   "metadata": {},
   "outputs": [],
   "source": [
    "#name = snakemake.params.name \n",
    "data_name = 'hg38'\n",
    "#rsync creates at most 1 missing directory\n",
    "os.system('mkdir input/' + 'Features' + '/' )\n",
    "os.system('mkdir input/Features/' + data_name + '/' )\n",
    "rsync_ = 'rsync -a -P rsync://'\n",
    "release = 'hg38'\n",
    "\n"
   ]
  },
  {
   "cell_type": "code",
   "execution_count": 21,
   "metadata": {},
   "outputs": [
    {
     "data": {
      "text/plain": [
       "'230 User anonymous logged in.'"
      ]
     },
     "execution_count": 21,
     "metadata": {},
     "output_type": "execute_result"
    }
   ],
   "source": [
    "# since most data come from ucsc set is as defeault \n",
    "ftp = 'hgdownload.soe.ucsc.edu'\n",
    "f = FTP(ftp)\n",
    "f.login()\n"
   ]
  },
  {
   "cell_type": "code",
   "execution_count": 25,
   "metadata": {
    "scrolled": false
   },
   "outputs": [],
   "source": [
    "commands = []\n",
    "\n",
    "for i in range(len(df))[:]:\n",
    " #   print(i)\n",
    "    rsync_ = 'rsync -a -P rsync://'\n",
    "\n",
    "\n",
    "    link = df['Link Release ' + release][i]\n",
    "    if link==link :\n",
    "        ftp_new = link.split('/', 3)[2]\n",
    "        s = '/' + link.split('/', 3)[3]\n",
    "        # change ftp adress is not ucsc\n",
    "        if ftp!=ftp_new:\n",
    "            ftp= ftp_new\n",
    "            f = FTP(ftp)\n",
    "            f.login()\n",
    "        else:\n",
    "            pass\n",
    "        rsync = rsync_ + ftp\n",
    "        f.cwd(s)\n",
    "        if df['File name'][i]=='diverse':\n",
    "        #    print('-----------------------')\n",
    "            files = f.nlst()\n",
    "            string = df['Name_Rule'][i].replace(',','|').replace(' ','')\n",
    "            feature_files = pd.Series(files)[pd.Series(files).str.contains(string)]\n",
    "         #   print(len(feature_files))\n",
    "            for file in feature_files:\n",
    "              #  print(file)\n",
    "                command = rsync + s + file + ' ./input/' + data_name + '/' + df['ReMM_Name'][i]  + '/' + ' ;'\n",
    "                commands.append(command)\n",
    "            #    print(command)\n",
    "        else:\n",
    "            command =rsync + s + df['File name'][i]+ ' ./input/Features/' + data_name + '/' + df['ReMM_Name'][i]  + '/'  + ' ;'\n",
    "            commands.append(command)\n",
    "    else:\n",
    "\n",
    "        pass\n"
   ]
  },
  {
   "cell_type": "code",
   "execution_count": 26,
   "metadata": {},
   "outputs": [
    {
     "data": {
      "text/plain": [
       "23"
      ]
     },
     "execution_count": 26,
     "metadata": {},
     "output_type": "execute_result"
    }
   ],
   "source": [
    "len(commands)\n"
   ]
  },
  {
   "cell_type": "code",
   "execution_count": 27,
   "metadata": {},
   "outputs": [],
   "source": [
    "with open(\"outfile\", \"w\") as outfile:\n",
    "    outfile.write(\"\\n\".join(str(item) for item in commands))"
   ]
  },
  {
   "cell_type": "code",
   "execution_count": null,
   "metadata": {},
   "outputs": [],
   "source": []
  }
 ],
 "metadata": {
  "kernelspec": {
   "display_name": "Python 3",
   "language": "python",
   "name": "python3"
  },
  "language_info": {
   "codemirror_mode": {
    "name": "ipython",
    "version": 3
   },
   "file_extension": ".py",
   "mimetype": "text/x-python",
   "name": "python",
   "nbconvert_exporter": "python",
   "pygments_lexer": "ipython3",
   "version": "3.7.6"
  }
 },
 "nbformat": 4,
 "nbformat_minor": 4
}
