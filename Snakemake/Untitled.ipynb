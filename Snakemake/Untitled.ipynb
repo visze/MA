{
 "cells": [
  {
   "cell_type": "code",
   "execution_count": 6,
   "metadata": {},
   "outputs": [],
   "source": [
    "import pandas as pd\n",
    "import json"
   ]
  },
  {
   "cell_type": "code",
   "execution_count": 28,
   "metadata": {},
   "outputs": [],
   "source": [
    "df = pd.read_excel('Utils/Features.xlsx')\n",
    "\n",
    "df['Link Release hg38'] =df['Link Release hg38'].replace(['http://','https://'],'',regex =True)\n",
    "\n",
    "df['Link Release hg37'] =df['Link Release hg37'].replace(['http://','https://'],'',regex =True)\n",
    "\n",
    "\n"
   ]
  },
  {
   "cell_type": "code",
   "execution_count": 38,
   "metadata": {},
   "outputs": [],
   "source": [
    "import json\n",
    "alle = {}\n",
    "alle['hg38']= dict(df[['ReMM_Name','Link Release hg38']].values.tolist())\n",
    "alle['hg19']= dict(df[['ReMM_Name','Link Release hg37']].values.tolist())\n",
    "with open(\"Utils/features_config.json\", \"w\") as outfile:  \n",
    "    json.dump(alle, outfile,indent=2) \n"
   ]
  },
  {
   "cell_type": "code",
   "execution_count": 39,
   "metadata": {},
   "outputs": [],
   "source": [
    "\n",
    "with open('Utils/features_config.json') as f:\n",
    "    data = json.load(f)"
   ]
  },
  {
   "cell_type": "code",
   "execution_count": 40,
   "metadata": {},
   "outputs": [
    {
     "data": {
      "text/plain": [
       "'hgdownload.soe.ucsc.edu/goldenPath/hg38/database/cpgIslandExt.txt.gz'"
      ]
     },
     "execution_count": 40,
     "metadata": {},
     "output_type": "execute_result"
    }
   ],
   "source": [
    "data['hg38']['GCContent']+'cpgIslandExt.txt.gz'"
   ]
  },
  {
   "cell_type": "code",
   "execution_count": null,
   "metadata": {},
   "outputs": [],
   "source": []
  }
 ],
 "metadata": {
  "kernelspec": {
   "display_name": "Python 3",
   "language": "python",
   "name": "python3"
  },
  "language_info": {
   "codemirror_mode": {
    "name": "ipython",
    "version": 3
   },
   "file_extension": ".py",
   "mimetype": "text/x-python",
   "name": "python",
   "nbconvert_exporter": "python",
   "pygments_lexer": "ipython3",
   "version": "3.7.6"
  }
 },
 "nbformat": 4,
 "nbformat_minor": 4
}
