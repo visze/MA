{
 "cells": [
  {
   "cell_type": "code",
   "execution_count": 15,
   "metadata": {},
   "outputs": [],
   "source": [
    "\n",
    "import snakemake\n",
    "import json\n",
    "\n",
    "with open('input/scaffold.json') as json_file:\n",
    "    file = json.load(json_file)\n",
    "    \n",
    "    file['name'] = 'cfgEx_dataFromFile'\n",
    "    file['data']['dataFile'] = '../output/features.txt'\n",
    "    file['data']['labelFile'] = '../output/labels.txt'\n",
    "    file['data']['foldFile'] = '../output/folds.txt'\n",
    "    file['data']['outFile'] = '../output/predictions.txt'\n",
    "\n",
    "with open('config.json', 'w') as outfile:\n",
    "    json.dump(file, outfile)\n",
    "\n",
    "\n"
   ]
  },
  {
   "cell_type": "code",
   "execution_count": 1,
   "metadata": {},
   "outputs": [],
   "source": [
    "\n",
    "with open(snakemake.output.config, 'w') as outfile:\n",
    "    json.dump(data, outfile)\n",
    "\n",
    "\n",
    "    "
   ]
  },
  {
   "cell_type": "code",
   "execution_count": 7,
   "metadata": {},
   "outputs": [],
   "source": [
    "with open('input/scaffold.json') as json_file:\n",
    "    file = json.load(json_file)\n",
    "\n"
   ]
  },
  {
   "cell_type": "code",
   "execution_count": 8,
   "metadata": {},
   "outputs": [
    {
     "data": {
      "text/plain": [
       "{'name': 'cfgEx_dataFromFile',\n",
       " 'exec': {'name': 'parSMURF1',\n",
       "  'ensThrd': 4,\n",
       "  'rfThrd': 1,\n",
       "  'seed': 1,\n",
       "  'verboseLevel': 1,\n",
       "  'saveTime': True,\n",
       "  'timeFile': 'timeout.txt',\n",
       "  'printCfg': True,\n",
       "  'mode': 'cv',\n",
       "  'optimizer': 'no'},\n",
       " 'data': {'dataFile': '../exampleDataset/data1.txt',\n",
       "  'foldFile': '../exampleDataset/folds1.txt',\n",
       "  'labelFile': '../exampleDataset/labels1.txt',\n",
       "  'outFile': 'predictions.txt'},\n",
       " 'folds': {'nFolds': 10},\n",
       " 'params': {'nParts': [10],\n",
       "  'fp': [1],\n",
       "  'ratio': [1],\n",
       "  'k': [5],\n",
       "  'nTrees': [10],\n",
       "  'mtry': [5]}}"
      ]
     },
     "execution_count": 8,
     "metadata": {},
     "output_type": "execute_result"
    }
   ],
   "source": [
    "file"
   ]
  },
  {
   "cell_type": "code",
   "execution_count": null,
   "metadata": {},
   "outputs": [],
   "source": []
  }
 ],
 "metadata": {
  "kernelspec": {
   "display_name": "Python 3",
   "language": "python",
   "name": "python3"
  },
  "language_info": {
   "codemirror_mode": {
    "name": "ipython",
    "version": 3
   },
   "file_extension": ".py",
   "mimetype": "text/x-python",
   "name": "python",
   "nbconvert_exporter": "python",
   "pygments_lexer": "ipython3",
   "version": "3.7.6"
  }
 },
 "nbformat": 4,
 "nbformat_minor": 4
}
